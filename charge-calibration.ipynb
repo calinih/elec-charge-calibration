{
 "cells": [
  {
   "cell_type": "markdown",
   "metadata": {},
   "source": [
    "This is a notebook intended to be used for charge calibration in LWFA. The setup contains a CCD, zoom lens and an emitting screen (Lanex). Additionally, a window may be installed after the Lanex.\n",
    "\n",
    "The number of photons collected per electron by the optical system is defined as : \n",
    "\n",
    "$n_{\\gamma 2 CCD } = n_\\gamma \\cdot \\cos(\\theta) \\cdot \\Omega$, where the quantitites present in the equation will be defined later. \n",
    "\n",
    "The number of photons will then be multiplied by the efficiency of the CCD, the transmissivity of the CCD lens (and vacuum system window, if that is the case), and the CCD gain, in order to give the total number of counts on the image. \n",
    "\n",
    "Details for \\textbLanex 1 : \n",
    "- $d=643$ mm\n",
    "- $f\\sharp = 11 $\n",
    "- $f = 100 $ mm\n",
    "- $\\theta = 45\\deg$\n",
    "\n",
    "Details for Lanex 2 : \n",
    "- $d=700$ mm\n",
    "- $f\\sharp = 2 $\n",
    "- $f = 16$ mm\n",
    "- $\\theta = 30\\deg$"
   ]
  },
  {
   "cell_type": "code",
   "execution_count": 3,
   "metadata": {
    "collapsed": true
   },
   "outputs": [],
   "source": [
    "import numpy as np"
   ]
  },
  {
   "cell_type": "markdown",
   "metadata": {},
   "source": [
    "We define the distance between the lens and the Lanex, and the parameters : \n",
    "- distance between the camera and the Lanex screen ($d_{setup}$)\n",
    "- \n",
    "- $CCD_{\\theta} = $ observation angle (${\\theta}$) of the CCD w.r.t. the Lanex screen \n",
    "- $f\\sharp = $ f-number of the CCD\n",
    "- $f =$ focal length\n",
    "- transmissivity of the CCD lens \n",
    "- the aperture radius and area of the aperture (obtained from $f\\sharp = f/D$ and $A=\\pi (D/2)^2$\n"
   ]
  },
  {
   "cell_type": "code",
   "execution_count": 4,
   "metadata": {
    "collapsed": true
   },
   "outputs": [],
   "source": [
    "setup_d     = 700e-3\n",
    "setup_window_transm = 0.99\n",
    "CCD_theta       = np.pi/6\n",
    "CCD_f_number    = 2\n",
    "CCD_f           = 16e-3\n",
    "CCD_lens_transm = 0.9\n",
    "CCD_aperture_r      = CCD_f/CCD_f_number/2\n",
    "CCD_aperture_area   = CCD_aperture_r**2 * np.pi \n",
    "CCD_gain = 1"
   ]
  },
  {
   "cell_type": "markdown",
   "metadata": {},
   "source": [
    "- CCD efficiency, defined as $\\int_{\\lambda}QE(\\lambda)S(\\lambda)d\\lambda$, where : \n",
    "- $QE=$  quantum efficiency\n",
    "- $S(\\lambda) = $ emission spectrum of the Lanex\n",
    "- $\\Omega$, the collection angle of the above defined setup "
   ]
  },
  {
   "cell_type": "code",
   "execution_count": 5,
   "metadata": {
    "collapsed": true
   },
   "outputs": [],
   "source": [
    "# integreal of (QE*spectrum)\n",
    "CCD_efficiency  = 0.53\n",
    "#collection angle\n",
    "setup_omega     = CCD_aperture_area / setup_d**2"
   ]
  },
  {
   "cell_type": "markdown",
   "metadata": {},
   "source": [
    "- Number of photons per electron, emitted from the Lanex screen ($n_\\gamma$)\n",
    "- Total number of photons collected by the optical system"
   ]
  },
  {
   "cell_type": "code",
   "execution_count": 6,
   "metadata": {
    "collapsed": true
   },
   "outputs": [],
   "source": [
    "n_emitted_photons   = 5.6e3\n",
    "n_collected_photons = n_emitted_photons * np.cos(CCD_theta) * setup_omega "
   ]
  },
  {
   "cell_type": "markdown",
   "metadata": {},
   "source": [
    "We can now get the total charge of the beam, by knowing the number of counts on the CCD ($n_{\\text{counts}})$.\n",
    "First we calculate the total number of electrons ($n_{\\text{elec}}$) then convert it to charge, in pC."
   ]
  },
  {
   "cell_type": "code",
   "execution_count": 18,
   "metadata": {
    "collapsed": false
   },
   "outputs": [
    {
     "name": "stdout",
     "output_type": "stream",
     "text": [
      "Conversion factor : 6.75e-07 [Counts-to-pC]\n",
      "Electrons         : 4.21e+08 \n",
      "Charge            : 67.51 [pC]\n"
     ]
    }
   ],
   "source": [
    "n_counts = 1e8\n",
    "n_elec = n_counts / (n_collected_photons * CCD_efficiency * CCD_lens_transm * CCD_gain) \n",
    "\n",
    "charge_elec_pC    = 1.602e-7\n",
    "conversion_factor = charge_elec_pC / (n_collected_photons * CCD_efficiency * CCD_lens_transm * CCD_gain) \n",
    "\n",
    "charge = n_elec * charge_elec_pC\n",
    "\n",
    "print(\"Conversion factor : %5.2e [Counts-to-pC]\" % conversion_factor)\n",
    "print(\"Electrons         : %5.2e \"%n_elec)\n",
    "print(\"Charge            : %5.2f [pC]\" % charge)"
   ]
  },
  {
   "cell_type": "code",
   "execution_count": null,
   "metadata": {
    "collapsed": true
   },
   "outputs": [],
   "source": []
  }
 ],
 "metadata": {
  "anaconda-cloud": {},
  "kernelspec": {
   "display_name": "Python [conda env:py27]",
   "language": "python",
   "name": "conda-env-py27-py"
  },
  "language_info": {
   "codemirror_mode": {
    "name": "ipython",
    "version": 2
   },
   "file_extension": ".py",
   "mimetype": "text/x-python",
   "name": "python",
   "nbconvert_exporter": "python",
   "pygments_lexer": "ipython2",
   "version": "2.7.12"
  }
 },
 "nbformat": 4,
 "nbformat_minor": 1
}
