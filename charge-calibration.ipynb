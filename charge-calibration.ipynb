{
 "cells": [
  {
   "cell_type": "markdown",
   "metadata": {},
   "source": [
    "This is a notebook ro be used for charge calibration in LWFA. The setup contains a CCD, zoom lens and an emitting screen (Lanex). Additionally, a window may be installed after the Lanex."
   ]
  },
  {
   "cell_type": "code",
   "execution_count": 7,
   "metadata": {
    "collapsed": true
   },
   "outputs": [],
   "source": [
    "import numpy as np"
   ]
  },
  {
   "cell_type": "markdown",
   "metadata": {},
   "source": [
    "We define the distance between the lens and the Lanex, and the parameters : \n",
    "- observation angle (${\\theta}$) wrt the Lanex ($CCD_{\\theta}$)\n",
    "- $f\\sharp$ (f-number) of the CCD\n",
    "- $f$ - focal length\n",
    "- transmissivity of the CCD lens \n",
    "- the aperture radius and area of the aperture (obtained from $f\\sharp = f/D$ and $A=\\pi (D/2)^2$\n"
   ]
  },
  {
   "cell_type": "code",
   "execution_count": 8,
   "metadata": {
    "collapsed": true
   },
   "outputs": [],
   "source": [
    "setup_d     = 700e-3\n",
    "\n",
    "CCD_theta       = np.pi/6\n",
    "CCD_f_number    = 2\n",
    "CCD_f           = 16e-3\n",
    "CCD_lens_transm = 0.9\n",
    "CCD_aperture_r      = CCD_f/CCD_f_number/2\n",
    "CCD_aperture_area   = CCD_aperture_r**2 * np.pi \n",
    "CCD_gain = 1"
   ]
  },
  {
   "cell_type": "markdown",
   "metadata": {},
   "source": [
    "- CCD efficiency, defined as $\\int_{\\lambda}QE(\\lambda)S(\\lambda)d\\lambda$,where : \n",
    "    -$QE=$  quantum efficiency\n",
    "    -$S(\\lambda) = $ emission spectrum of the Lanex\n",
    "    $\\Omega$, the collection angle of the above defined setup "
   ]
  },
  {
   "cell_type": "code",
   "execution_count": 9,
   "metadata": {
    "collapsed": true
   },
   "outputs": [],
   "source": [
    "# integreal of (QE*spectrum)\n",
    "CCD_efficiency  = 0.53\n",
    "#collection angle\n",
    "setup_omega     = CCD_aperture_area / setup_d**2\n"
   ]
  },
  {
   "cell_type": "code",
   "execution_count": null,
   "metadata": {
    "collapsed": true
   },
   "outputs": [],
   "source": []
  }
 ],
 "metadata": {
  "anaconda-cloud": {},
  "kernelspec": {
   "display_name": "Python [conda env:py27]",
   "language": "python",
   "name": "conda-env-py27-py"
  },
  "language_info": {
   "codemirror_mode": {
    "name": "ipython",
    "version": 2
   },
   "file_extension": ".py",
   "mimetype": "text/x-python",
   "name": "python",
   "nbconvert_exporter": "python",
   "pygments_lexer": "ipython2",
   "version": "2.7.12"
  }
 },
 "nbformat": 4,
 "nbformat_minor": 1
}
